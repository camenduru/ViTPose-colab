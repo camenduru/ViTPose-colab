{
  "cells": [
    {
      "cell_type": "markdown",
      "metadata": {
        "id": "view-in-github"
      },
      "source": [
        "[![Open In Colab](https://colab.research.google.com/assets/colab-badge.svg)](https://colab.research.google.com/github/camenduru/ViTPose-colab/blob/main/ViTPose_colab.ipynb)"
      ]
    },
    {
      "cell_type": "code",
      "execution_count": null,
      "metadata": {
        "id": "NrgcDwZxgDOe"
      },
      "outputs": [],
      "source": [
        "%cd /content\n",
        "!git clone -b dev https://github.com/camenduru/ViTPose_video-hf\n",
        "\n",
        "!pip install -q https://github.com/camenduru/insightface-face-detection-colab/releases/download/v0.1/mmcv_full-1.5.0-cp310-cp310-linux_x86_64.whl\n",
        "!pip install -q gradio==3.39.0 openmim==0.1.5 timm==0.9.5 mmpose==0.25.1 mmdet==2.24.1 numpy==1.23.5\n",
        "!wget https://huggingface.co/camenduru/ViTPose/resolve/main/configs.tar -O /content/ViTPose_video-hf/mmdet_configs/configs.tar\n",
        "\n",
        "%cd /content/ViTPose_video-hf\n",
        "!python app.py"
      ]
    }
  ],
  "metadata": {
    "accelerator": "GPU",
    "colab": {
      "gpuType": "T4",
      "provenance": []
    },
    "kernelspec": {
      "display_name": "Python 3",
      "name": "python3"
    },
    "language_info": {
      "name": "python"
    }
  },
  "nbformat": 4,
  "nbformat_minor": 0
}
